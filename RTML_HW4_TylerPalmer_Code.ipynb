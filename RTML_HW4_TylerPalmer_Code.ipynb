{
  "nbformat": 4,
  "nbformat_minor": 0,
  "metadata": {
    "colab": {
      "provenance": []
    },
    "kernelspec": {
      "name": "python3",
      "display_name": "Python 3"
    },
    "language_info": {
      "name": "python"
    }
  },
  "cells": [
    {
      "cell_type": "code",
      "execution_count": null,
      "metadata": {
        "id": "rr3aR62Nye3-"
      },
      "outputs": [],
      "source": [
        "# Tyler Palmer\n",
        "# Student ID: 801058786\n",
        "# Github: https://github.com/TPal49\n",
        "# Homework 3\n",
        "\n",
        "\n",
        "import time\n",
        "import torch\n",
        "import torchvision\n",
        "from torch import nn\n",
        "from matplotlib import pyplot as plt\n",
        "import numpy as np"
      ]
    },
    {
      "cell_type": "code",
      "source": [
        "!pip install setuptools==66\n",
        "!pip install d2l==1.0.0-beta0\n"
      ],
      "metadata": {
        "id": "Q3M6_mhBywHp"
      },
      "execution_count": null,
      "outputs": []
    },
    {
      "cell_type": "code",
      "source": [
        "from d2l import torch as d2l\n",
        "d2l.use_svg_display()"
      ],
      "metadata": {
        "id": "_kvnNPDsy-ix"
      },
      "execution_count": null,
      "outputs": []
    },
    {
      "cell_type": "code",
      "source": [
        "class TimeMachine(d2l.DataModule): \n",
        "    \"\"\"The Time Machine dataset.\"\"\"\n",
        "    def _download(self):\n",
        "        fname = d2l.download(d2l.DATA_URL + 'timemachine.txt', self.root,\n",
        "                             '090b5e7e70c295757f55df93cb0a180b9691891a')\n",
        "        with open(fname) as f:\n",
        "            return f.read()\n",
        "\n",
        "data = d2l.TimeMachine(batch_size=1024, num_steps=32)"
      ],
      "metadata": {
        "id": "Og3DwYsmNwEA"
      },
      "execution_count": null,
      "outputs": []
    },
    {
      "cell_type": "code",
      "source": [
        "class GRU(d2l.RNN):\n",
        "    def __init__(self, num_inputs, num_hiddens):\n",
        "        d2l.Module.__init__(self)\n",
        "        self.save_hyperparameters()\n",
        "        self.rnn = nn.GRU(num_inputs, num_hiddens)\n",
        "\n",
        "class LSTM(d2l.RNN):\n",
        "    def __init__(self, num_inputs, num_hiddens):\n",
        "        d2l.Module.__init__(self)\n",
        "        self.save_hyperparameters()\n",
        "        self.rnn = nn.LSTM(num_inputs, num_hiddens)\n",
        "\n",
        "    def forward(self, inputs, H_C=None):\n",
        "        return self.rnn(inputs, H_C)\n",
        "\n"
      ],
      "metadata": {
        "id": "jW8dJv3-OHsV"
      },
      "execution_count": null,
      "outputs": []
    },
    {
      "cell_type": "code",
      "source": [
        "start = time.time()\n",
        "num_hidden_states = 64\n",
        "gru = GRU(num_inputs=len(data.vocab), num_hiddens = num_hidden_states)\n",
        "model = d2l.RNNLM(gru, vocab_size=len(data.vocab), lr=4)\n",
        "trainer = d2l.Trainer(max_epochs=50, gradient_clip_val=1, num_gpus=1)\n",
        "trainer.fit(model, data)\n",
        "print(\"num of hidden states:\", num_hidden_states)\n",
        "f'{time.time() - start:.2f} sec has elapsed'"
      ],
      "metadata": {
        "id": "Kxc8YuOIONsW"
      },
      "execution_count": null,
      "outputs": []
    },
    {
      "cell_type": "code",
      "source": [
        "start = time.time()\n",
        "num_hidden_states = 16\n",
        "lstm = LSTM(num_inputs=len(data.vocab), num_hiddens=num_hidden_states)\n",
        "model = d2l.RNNLM(lstm, vocab_size=len(data.vocab), lr=4)\n",
        "trainer.fit(model, data)\n",
        "print(\"num of hidden states:\", num_hidden_states)\n",
        "f'{time.time() - start:.2f} sec has elapsed'"
      ],
      "metadata": {
        "id": "LG6AnhaZ52vT"
      },
      "execution_count": null,
      "outputs": []
    },
    {
      "cell_type": "code",
      "source": [
        "class GRU(d2l.RNN):  \n",
        "    \"\"\"The multi-layer GRU model.\"\"\"\n",
        "    def __init__(self, num_inputs, num_hiddens, num_layers, dropout=0):\n",
        "        d2l.Module.__init__(self)\n",
        "        self.save_hyperparameters()\n",
        "        self.rnn = nn.GRU(num_inputs, num_hiddens, num_layers,\n",
        "                          dropout=dropout)\n",
        "        \n",
        "class DLSTM(d2l.RNN):  \n",
        "    \"\"\"The multi-layer LSTM model.\"\"\"\n",
        "    def __init__(self, num_inputs, num_hiddens, num_layers, dropout=0):\n",
        "        d2l.Module.__init__(self)\n",
        "        self.save_hyperparameters()\n",
        "        self.rnn = nn.LSTM(num_inputs, num_hiddens, num_layers,\n",
        "                          dropout=dropout)"
      ],
      "metadata": {
        "id": "4A6ChWd_H-cM"
      },
      "execution_count": null,
      "outputs": []
    },
    {
      "cell_type": "code",
      "source": [
        "start = time.time()\n",
        "num_hidden_states = 16\n",
        "num_of_layers = 4\n",
        "gru = GRU(num_inputs=len(data.vocab), num_hiddens=num_hidden_states, num_layers=num_of_layers)\n",
        "model = d2l.RNNLM(gru, vocab_size=len(data.vocab), lr=2)\n",
        "trainer.fit(model, data)\n",
        "print(\"num of hidden states:\", num_hidden_states)\n",
        "print(\"num of layers:\", num_of_layers)\n",
        "f'{time.time() - start:.2f} sec has elapsed'"
      ],
      "metadata": {
        "id": "5MdmpJjLIJR9"
      },
      "execution_count": null,
      "outputs": []
    },
    {
      "cell_type": "code",
      "source": [
        "start = time.time()\n",
        "num_hidden_states = 16\n",
        "num_of_layers = 4\n",
        "gru = DLSTM(num_inputs=len(data.vocab), num_hiddens=num_hidden_states, num_layers=num_of_layers)\n",
        "model = d2l.RNNLM(gru, vocab_size=len(data.vocab), lr=2)\n",
        "trainer.fit(model, data)\n",
        "print(\"num of hidden states:\", num_hidden_states)\n",
        "print(\"num of layers:\", num_of_layers)\n",
        "f'{time.time() - start:.2f} sec has elapsed'"
      ],
      "metadata": {
        "id": "qxv6ImmrIDOn"
      },
      "execution_count": null,
      "outputs": []
    }
  ]
}